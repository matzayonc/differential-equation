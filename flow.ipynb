{
 "cells": [
  {
   "attachments": {},
   "cell_type": "markdown",
   "metadata": {},
   "source": [
    "# Definicja równania\n",
    "\n",
    "$\\frac{d^2u}{dx^2}=4\\pi Gρ(x)$  \n",
    "$u(0)=-5$  \n",
    "$u(3)=-4$  \n",
    "$I=[0,3]$\n",
    "\n",
    "$ρ(x)=\\begin{cases}\n",
    "0 & \\text{dla}\\ x \\in [0, 1] \\\\\n",
    "10^{11} & \\text{dla}\\ x \\in (1, 2] \\\\\n",
    "0 & \\text{dla}\\ x \\in (2, 3] \\\\\n",
    "\\end{cases}$"
   ]
  },
  {
   "attachments": {},
   "cell_type": "markdown",
   "metadata": {},
   "source": [
    "## Sformułowanie słabe\n",
    "\n",
    "$\\int_0^3u''vdx = \\int_0^34\\pi Gρ(x)vdx$  \n",
    "$u'v|_0^3 - \\int_0^3u'v'dx = \\int_0^34\\pi Gρ(x)vdx$  \n",
    "\n",
    "$u'(3)v(3) - u'(0)v(0) - \\int_0^3u'v'dx = \\int_0^34\\pi Gρ(x)vdx$  \n",
    "$u'(3)v(3) - u'(0)v(0)-\\int_0^3u'v'dx = 4\\pi G(\\int_0^1ρ(x)vdx + \\int_1^2ρ(x)vdx + \\int_2^3ρ(x)vdx)$  \n",
    "$u'(3)v(3) - u'(0)v(0)-\\int_0^3u'v'dx = 4\\pi G(\\int_0^10vdx + \\int_1^2 10^{11} vdx + \\int_2^30vdx)$  \n",
    "$u'(3)v(3) - u'(0)v(0)-\\int_0^3u'v'dx = 4*10^{11}*\\pi G \\int_1^2 vdx$  \n",
    "$B(u, v) = L(v)$\n",
    "\n",
    "$B(u, v) = u'(3)v(3) - u'(0)v(0) - \\int_0^3u'v'dx$  \n",
    "$L(v) = 4*10^{11}*\\pi G \\int_1^2 vdx = k\\int_1^2vdx$\n",
    "\n",
    "$B(u -5e_0 - 4e_n , v) = -\\int_0^3u'v'dx$  \n",
    "$\\stackrel{\\sim}{B}(u, v) = -\\int_0^3u'v'dx$  \n",
    "$\\stackrel{\\sim}{L}(v) = k\\int_1^2vdx - B(-5e_0 - 4e_n, v)$  \n",
    "$\\stackrel{\\sim}{L}(v) = k\\int_1^2vdx +5B(e_0, v) + 4B(e_n, v)$"
   ]
  },
  {
   "attachments": {},
   "cell_type": "markdown",
   "metadata": {},
   "source": [
    "### Parametry obliczeń"
   ]
  },
  {
   "cell_type": "code",
   "execution_count": 35,
   "metadata": {},
   "outputs": [],
   "source": [
    "N = 100 # liczba elementów\n",
    "left, right = 0.0, 3.0 # zakres\n",
    "m = 1000 # liczba punktów użyta podczas wyliczania całek"
   ]
  },
  {
   "attachments": {},
   "cell_type": "markdown",
   "metadata": {},
   "source": [
    "### Kod początkowy"
   ]
  },
  {
   "cell_type": "code",
   "execution_count": 36,
   "metadata": {},
   "outputs": [],
   "source": [
    "import numpy as np\n",
    "import matplotlib.pyplot as plt\n",
    "\n",
    "k = 4 * np.pi * 6.67259\n",
    "n = N # liczba elementów podprzestrzeni, po uwzględnieniu warunków brzegowych\n",
    "w = (right - left) / (n+1) # szerokość elementu"
   ]
  },
  {
   "attachments": {},
   "cell_type": "markdown",
   "metadata": {},
   "source": [
    "## Elementy skończone\n",
    "\n",
    "$e_i=\\begin{cases}\n",
    "    x-(p_i-p_{i-1})*\\frac{1}{p_i-p_{i-1}} & \\text{dla}\\ x < p_i \\\\\n",
    "    x-p_i*\\frac{-1}{p_i-p_{i-1}} & \\text{dla}\\ x >= p_i \\\\\n",
    "\\end{cases}$\n"
   ]
  },
  {
   "cell_type": "code",
   "execution_count": 37,
   "metadata": {},
   "outputs": [],
   "source": [
    "def e(center, w, first=False, last=False):\n",
    "    a = 1/w\n",
    "    f = lambda x: (x - (center - w)) * a if x < center else (x - center) * (-a) + 1\n",
    "    \n",
    "    if first:\n",
    "        return (lambda x: 0.0 if x < center or x > center + w else f(x))\n",
    "    elif last:\n",
    "        return (lambda x: 0.0 if x < center - w or x > center else f(x))\n",
    "    else:\n",
    "        return (lambda x: 0.0 if x < center - w or x > center + w else f(x))\n"
   ]
  },
  {
   "attachments": {},
   "cell_type": "markdown",
   "metadata": {},
   "source": [
    "## Pochodne elementów skończonych\n",
    "\n",
    "$e'_i=\\begin{cases}\n",
    "    \\frac{1}{p_i-p_{i-1}} & \\text{dla}\\ x < p_i \\\\\n",
    "    \\frac{-1}{p_i-p_{i-1}} & \\text{dla}\\ x >= p_i \\\\\n",
    "\\end{cases}$"
   ]
  },
  {
   "cell_type": "code",
   "execution_count": 38,
   "metadata": {},
   "outputs": [],
   "source": [
    "def de(center, w, first=False, last=False):\n",
    "    a = 1/w\n",
    "    f = lambda x: a if x < center else -a\n",
    "\n",
    "    if first:\n",
    "        return (lambda x: 0.0 if x < center or x > center+w else f(x))\n",
    "    elif last:\n",
    "        return (lambda x: 0.0 if x < center-w or x > center else f(x))\n",
    "    else:\n",
    "        return (lambda x: 0.0 if x < center-w or x > center+w else f(x))"
   ]
  },
  {
   "attachments": {},
   "cell_type": "markdown",
   "metadata": {},
   "source": [
    "### B(u, v)"
   ]
  },
  {
   "cell_type": "code",
   "execution_count": 39,
   "metadata": {},
   "outputs": [],
   "source": [
    "def b(up, vp, n, left=0, right=3):\n",
    "    xs = np.linspace(left, right, n)\n",
    "    ys = np.array([up(x)*vp(x) for x in xs]).reshape(1, -1)[0]\n",
    "\n",
    "    b = np.trapz(ys, x=xs)\n",
    "    return -b"
   ]
  },
  {
   "attachments": {},
   "cell_type": "markdown",
   "metadata": {},
   "source": [
    "### L(v)"
   ]
  },
  {
   "cell_type": "code",
   "execution_count": 40,
   "metadata": {},
   "outputs": [],
   "source": [
    "def l(v, n, left=1, right=2):\n",
    "    xs = np.linspace(left, right, n)\n",
    "    ys = np.array([v(x) for x in xs]).reshape(1, -1)[0]\n",
    "\n",
    "    b = np.trapz(ys, x=xs)\n",
    "    return k * b"
   ]
  },
  {
   "attachments": {},
   "cell_type": "markdown",
   "metadata": {},
   "source": [
    "## $e_i$ and $e'_i$ "
   ]
  },
  {
   "cell_type": "code",
   "execution_count": 41,
   "metadata": {},
   "outputs": [
    {
     "data": {
      "image/png": "[encoded data removed]",
      "text/plain": [
       "<Figure size 640x480 with 1 Axes>"
      ]
     },
     "metadata": {},
     "output_type": "display_data"
    }
   ],
   "source": [
    "points = np.linspace(left, right, n+2)\n",
    "V = np.array([e(points[i], w, i==0, i==n+1) for i in range(n+2)])\n",
    "dV = np.array([de(points[i], w, i==0, i==n+1) for i in range(n+2)])\n",
    "\n",
    "\n",
    "show_points = np.linspace(left, right, (n+2)*10)\n",
    "for i in range(n+2):\n",
    "    plt.plot(show_points, [V[i](x) for x in show_points])\n",
    "    plt.scatter(show_points, [dV[i](x) for x in show_points])\n",
    "plt.show()\n",
    "\n"
   ]
  },
  {
   "attachments": {},
   "cell_type": "markdown",
   "metadata": {},
   "source": [
    "## Matrix of $b_{i,j} = B(e_i, e_j)$"
   ]
  },
  {
   "cell_type": "code",
   "execution_count": 42,
   "metadata": {},
   "outputs": [],
   "source": [
    "B = [[b(dV[i], dV[j], m) for i in range(1, n+1)] for j in range(1, n+1)]"
   ]
  },
  {
   "attachments": {},
   "cell_type": "markdown",
   "metadata": {},
   "source": [
    "## Vector of $l_i = L(e_i) + 5B(e_0, e_i) + 4B(e_n, e_i)$\n",
    "\n",
    "$\\stackrel{\\sim}{L}(v) = k\\int_1^2vdx +5B(e_0, v) + 4B(e_n, v)$"
   ]
  },
  {
   "cell_type": "code",
   "execution_count": 43,
   "metadata": {},
   "outputs": [],
   "source": [
    "L = np.array([l(V[i], m) + 5*b(dV[0], dV[i], m) + 4*b(dV[n+1], dV[i], m) for i in range(1,n+1)])"
   ]
  },
  {
   "attachments": {},
   "cell_type": "markdown",
   "metadata": {},
   "source": [
    "### Kalkulacja wektora $u_i$"
   ]
  },
  {
   "cell_type": "code",
   "execution_count": 44,
   "metadata": {},
   "outputs": [
    {
     "name": "stdout",
     "output_type": "stream",
     "text": [
      "[[-66.37287287  34.0373707   -0.         ...  -0.          -0.\n",
      "   -0.        ]\n",
      " [ 34.0373707  -68.07474141  34.0373707  ...  -0.          -0.\n",
      "   -0.        ]\n",
      " [ -0.          34.0373707  -68.07474141 ...  -0.          -0.\n",
      "   -0.        ]\n",
      " ...\n",
      " [ -0.          -0.          -0.         ... -68.07474141  34.0373707\n",
      "   -0.        ]\n",
      " [ -0.          -0.          -0.         ...  34.0373707  -68.07474141\n",
      "   34.0373707 ]\n",
      " [ -0.          -0.          -0.         ...  -0.          34.0373707\n",
      "  -66.37287287]]\n",
      "[[-0.03060728 -0.03030473 -0.03000218 ... -0.00092358 -0.00062103\n",
      "  -0.00031848]\n",
      " [-0.03030473 -0.05909423 -0.05850425 ... -0.00180098 -0.001211\n",
      "  -0.00062103]\n",
      " [-0.03000218 -0.05850425 -0.08700633 ... -0.00267838 -0.00180098\n",
      "  -0.00092358]\n",
      " ...\n",
      " [-0.00092358 -0.00180098 -0.00267838 ... -0.08700633 -0.05850425\n",
      "  -0.03000218]\n",
      " [-0.00062103 -0.001211   -0.00180098 ... -0.05850425 -0.05909423\n",
      "  -0.03030473]\n",
      " [-0.00031848 -0.00062103 -0.00092358 ... -0.03000218 -0.03030473\n",
      "  -0.03060728]]\n",
      "[[1.61677511e+02]\n",
      " [0.00000000e+00]\n",
      " [0.00000000e+00]\n",
      " [0.00000000e+00]\n",
      " [0.00000000e+00]\n",
      " [0.00000000e+00]\n",
      " [0.00000000e+00]\n",
      " [0.00000000e+00]\n",
      " [0.00000000e+00]\n",
      " [0.00000000e+00]\n",
      " [0.00000000e+00]\n",
      " [0.00000000e+00]\n",
      " [0.00000000e+00]\n",
      " [0.00000000e+00]\n",
      " [0.00000000e+00]\n",
      " [0.00000000e+00]\n",
      " [0.00000000e+00]\n",
      " [0.00000000e+00]\n",
      " [0.00000000e+00]\n",
      " [0.00000000e+00]\n",
      " [0.00000000e+00]\n",
      " [0.00000000e+00]\n",
      " [0.00000000e+00]\n",
      " [0.00000000e+00]\n",
      " [0.00000000e+00]\n",
      " [0.00000000e+00]\n",
      " [0.00000000e+00]\n",
      " [0.00000000e+00]\n",
      " [0.00000000e+00]\n",
      " [0.00000000e+00]\n",
      " [0.00000000e+00]\n",
      " [0.00000000e+00]\n",
      " [1.38503988e-01]\n",
      " [1.93720744e+00]\n",
      " [2.49029919e+00]\n",
      " [2.49055124e+00]\n",
      " [2.49097133e+00]\n",
      " [2.49029919e+00]\n",
      " [2.49049523e+00]\n",
      " [2.49102735e+00]\n",
      " [2.49029919e+00]\n",
      " [2.49043922e+00]\n",
      " [2.49108336e+00]\n",
      " [2.49029919e+00]\n",
      " [2.49038321e+00]\n",
      " [2.49113937e+00]\n",
      " [2.49029919e+00]\n",
      " [2.49032720e+00]\n",
      " [2.49119538e+00]\n",
      " [2.49029919e+00]\n",
      " [2.49029919e+00]\n",
      " [2.49119538e+00]\n",
      " [2.49032720e+00]\n",
      " [2.49029919e+00]\n",
      " [2.49113937e+00]\n",
      " [2.49038321e+00]\n",
      " [2.49029919e+00]\n",
      " [2.49108336e+00]\n",
      " [2.49043922e+00]\n",
      " [2.49029919e+00]\n",
      " [2.49102735e+00]\n",
      " [2.49049523e+00]\n",
      " [2.49029919e+00]\n",
      " [2.49097133e+00]\n",
      " [2.49055124e+00]\n",
      " [2.49029919e+00]\n",
      " [1.93720744e+00]\n",
      " [1.38503988e-01]\n",
      " [0.00000000e+00]\n",
      " [0.00000000e+00]\n",
      " [0.00000000e+00]\n",
      " [0.00000000e+00]\n",
      " [0.00000000e+00]\n",
      " [0.00000000e+00]\n",
      " [0.00000000e+00]\n",
      " [0.00000000e+00]\n",
      " [0.00000000e+00]\n",
      " [0.00000000e+00]\n",
      " [0.00000000e+00]\n",
      " [0.00000000e+00]\n",
      " [0.00000000e+00]\n",
      " [0.00000000e+00]\n",
      " [0.00000000e+00]\n",
      " [0.00000000e+00]\n",
      " [0.00000000e+00]\n",
      " [0.00000000e+00]\n",
      " [0.00000000e+00]\n",
      " [0.00000000e+00]\n",
      " [0.00000000e+00]\n",
      " [0.00000000e+00]\n",
      " [0.00000000e+00]\n",
      " [0.00000000e+00]\n",
      " [0.00000000e+00]\n",
      " [0.00000000e+00]\n",
      " [0.00000000e+00]\n",
      " [0.00000000e+00]\n",
      " [0.00000000e+00]\n",
      " [0.00000000e+00]\n",
      " [0.00000000e+00]\n",
      " [1.15727060e+02]]\n",
      "[-1.07310009e+04  5.50307737e+03  0.00000000e+00  0.00000000e+00\n",
      "  0.00000000e+00  0.00000000e+00  0.00000000e+00  0.00000000e+00\n",
      "  0.00000000e+00  0.00000000e+00  0.00000000e+00  0.00000000e+00\n",
      "  0.00000000e+00  0.00000000e+00  0.00000000e+00  0.00000000e+00\n",
      "  0.00000000e+00  0.00000000e+00  0.00000000e+00  0.00000000e+00\n",
      "  0.00000000e+00  0.00000000e+00  0.00000000e+00  0.00000000e+00\n",
      "  0.00000000e+00  0.00000000e+00  0.00000000e+00  0.00000000e+00\n",
      "  0.00000000e+00  0.00000000e+00  0.00000000e+00  4.71431159e+00\n",
      "  5.65088244e+01 -4.23973470e+01 -1.88172098e+01  4.28963748e-03\n",
      " -3.57469790e-02  2.95508360e-02  1.14390333e-02 -4.28963748e-02\n",
      "  2.95508360e-02  1.71585499e-02 -4.86158915e-02  2.95508360e-02\n",
      "  2.03042841e-02 -5.17616256e-02  2.95508360e-02  2.85975832e-02\n",
      " -6.00549248e-02  3.05040888e-02  3.05040888e-02 -6.00549248e-02\n",
      "  2.85975832e-02  2.95508360e-02 -5.17616256e-02  2.03042841e-02\n",
      "  2.95508360e-02 -4.86158915e-02  1.71585499e-02  2.95508360e-02\n",
      " -4.28963748e-02  1.14390333e-02  2.95508360e-02 -3.57469790e-02\n",
      "  4.28963748e-03 -1.88172098e+01 -4.23973470e+01  5.65088244e+01\n",
      "  4.71431159e+00  0.00000000e+00  0.00000000e+00  0.00000000e+00\n",
      "  0.00000000e+00  0.00000000e+00  0.00000000e+00  0.00000000e+00\n",
      "  0.00000000e+00  0.00000000e+00  0.00000000e+00  0.00000000e+00\n",
      "  0.00000000e+00  0.00000000e+00  0.00000000e+00  0.00000000e+00\n",
      "  0.00000000e+00  0.00000000e+00  0.00000000e+00  0.00000000e+00\n",
      "  0.00000000e+00  0.00000000e+00  0.00000000e+00  0.00000000e+00\n",
      "  0.00000000e+00  0.00000000e+00  0.00000000e+00  0.00000000e+00\n",
      "  0.00000000e+00  0.00000000e+00  3.93904486e+03 -7.68113747e+03]\n"
     ]
    }
   ],
   "source": [
    "Bm = np.matrix(B)\n",
    "Bmi = Bm.getI()\n",
    "Lm = np.matrix([L]).getT()\n",
    "U = np.array(Bm * Lm).reshape(1, -1)[0]\n",
    "\n",
    "print(Bm)\n",
    "print(Bmi)\n",
    "print(Lm)\n",
    "print(U)"
   ]
  },
  {
   "cell_type": "code",
   "execution_count": 45,
   "metadata": {},
   "outputs": [
    {
     "data": {
      "image/png": "[encoded data removed]",
      "text/plain": [
       "<Figure size 640x480 with 1 Axes>"
      ]
     },
     "metadata": {},
     "output_type": "display_data"
    }
   ],
   "source": [
    "u = lambda x: sum([U[i] * V[i](x) for i in range(n)]) - 5 * V[0](x) + 4 * V[n+1](x) \n",
    "\n",
    "xs = np.linspace(0, 3, 10)\n",
    "ys = np.array([u(x) for x in xs]).reshape(1, -1)[0]\n",
    "\n",
    "# plt.scatter\n",
    "plt.plot(xs, ys)\n",
    "ys = plt.gca()\n",
    "ys.set_ylim([-50, 50])\n",
    "plt.show()"
   ]
  }
 ],
 "metadata": {
  "kernelspec": {
   "display_name": "Python 3",
   "language": "python",
   "name": "python3"
  },
  "language_info": {
   "codemirror_mode": {
    "name": "ipython",
    "version": 3
   },
   "file_extension": ".py",
   "mimetype": "text/x-python",
   "name": "python",
   "nbconvert_exporter": "python",
   "pygments_lexer": "ipython3",
   "version": "3.8.10"
  },
  "orig_nbformat": 4,
  "vscode": {
   "interpreter": {
    "hash": "916dbcbb3f70747c44a77c7bcd40155683ae19c65e1c03b4aa3499c5328201f1"
   }
  }
 },
 "nbformat": 4,
 "nbformat_minor": 2
}
